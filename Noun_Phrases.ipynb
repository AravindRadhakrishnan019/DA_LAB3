{
 "cells": [
  {
   "cell_type": "code",
   "execution_count": 2,
   "id": "ad9a5df4",
   "metadata": {},
   "outputs": [
    {
     "name": "stderr",
     "output_type": "stream",
     "text": [
      "[nltk_data] Downloading package stopwords to\n",
      "[nltk_data]     C:\\Users\\ARAVIND\\AppData\\Roaming\\nltk_data...\n",
      "[nltk_data]   Package stopwords is already up-to-date!\n"
     ]
    }
   ],
   "source": [
    "#importing libraries\n",
    "\n",
    "import nltk\n",
    "nltk.download('stopwords')\n",
    "from nltk.corpus import stopwords\n",
    "from nltk.tokenize import word_tokenize, sent_tokenize\n",
    "stop_words =set(stopwords.words('english'))"
   ]
  },
  {
   "cell_type": "code",
   "execution_count": 5,
   "id": "a6847c8f",
   "metadata": {},
   "outputs": [],
   "source": [
    "#input_text\n",
    "\n",
    "txt=open(r'C:\\Users\\ARAVIND\\Downloads\\aravind_nlp (3)\\aravind_nlp\\bcci.txt','r').read()"
   ]
  },
  {
   "cell_type": "code",
   "execution_count": 6,
   "id": "bd8e2ee4",
   "metadata": {},
   "outputs": [
    {
     "name": "stderr",
     "output_type": "stream",
     "text": [
      "[nltk_data] Downloading package punkt to\n",
      "[nltk_data]     C:\\Users\\ARAVIND\\AppData\\Roaming\\nltk_data...\n",
      "[nltk_data]   Package punkt is already up-to-date!\n"
     ]
    }
   ],
   "source": [
    "#tokenizing data\n",
    "nltk.download('punkt')\n",
    "tokenized_data = sent_tokenize(txt)"
   ]
  },
  {
   "cell_type": "code",
   "execution_count": 7,
   "id": "2a4e87a3",
   "metadata": {},
   "outputs": [
    {
     "name": "stderr",
     "output_type": "stream",
     "text": [
      "[nltk_data] Downloading package averaged_perceptron_tagger to\n",
      "[nltk_data]     C:\\Users\\ARAVIND\\AppData\\Roaming\\nltk_data...\n",
      "[nltk_data]   Unzipping taggers\\averaged_perceptron_tagger.zip.\n"
     ]
    },
    {
     "name": "stdout",
     "output_type": "stream",
     "text": [
      "[('Dravid', 'NNP'), ('asserted', 'VBD'), ('T20', 'NNP'), ('cricket', 'NN'), ('take', 'VB'), ('backseat', 'NN'), ('next', 'IN'), ('T20', 'NNP'), ('World', 'NNP'), ('Cup', 'NNP'), ('still', 'RB'), ('two', 'CD'), ('years', 'NNS'), ('away', 'RB'), (',', ','), ('one', 'PRP'), ('ca', 'MD'), (\"n't\", 'RB'), ('take', 'VB'), ('eyes', 'NNS'), ('T20', 'NNP'), ('team', 'NN'), ('perform', 'NN'), ('next', 'JJ'), ('year', 'NN'), ('.', '.')]\n",
      "[('TOI', 'NNP'), ('understands', 'NNS'), ('veterans', 'NNS'), (',', ','), ('part', 'NN'), ('T20', 'NNP'), ('World', 'NNP'), ('Cup', 'NNP'), (',', ','), ('already', 'RB'), ('told', 'VBD'), ('T20I', 'NNP'), ('career', 'NN'), ('good', 'NN'), ('.', '.')]\n",
      "[('There', 'EX'), ('many', 'JJ'), ('players', 'NNS'), ('mid-30s', 'JJ'), ('tournament', 'NN'), ('.', '.')]\n",
      "[('Dinesh', 'NNP'), ('Karthik', 'NNP'), (',', ','), ('R', 'NNP'), ('Ashwin', 'NNP'), (',', ','), ('Bhuvneshwar', 'NNP'), ('Kumar', 'NNP'), ('Mohammed', 'NNP'), ('Shami', 'NNP'), ('made', 'VBD'), ('cut', 'VBN'), ('year', 'NN'), ('last', 'JJ'), ('four', 'CD'), ('months', 'NNS'), ('.', '.')]\n",
      "[('The', 'DT'), ('bigger', 'JJR'), ('step', 'NN'), ('would', 'MD'), ('phase', 'VB'), ('big', 'JJ'), ('names', 'NNS'), ('like', 'IN'), ('Rohit', 'NNP'), ('Sharma', 'NNP'), ('Virat', 'NNP'), ('Kohli', 'NNP'), ('.', '.')]\n",
      "[('Sources', 'NNS'), ('told', 'VBD'), ('TOI', 'NNP'), ('Rohit', 'NNP'), ('constant', 'JJ'), ('touch', 'NN'), ('BCCI', 'NNP'), ('officials', 'NNS'), ('future', 'VBP'), ('India', 'NNP'), (\"'s\", 'POS'), ('all-format', 'JJ'), ('captain', 'NN'), ('.', '.')]\n",
      "[('For', 'IN'), ('Dravid', 'NNP'), (',', ','), ('project', 'NN'), ('three', 'CD'), ('ICC', 'NNP'), ('events', 'NNS'), ('till', 'VBP'), ('2023â€', 'CD'), ('”', 'JJ'), ('starting', 'VBG'), ('T20', 'NNP'), ('World', 'NNP'), ('Cup', 'NNP'), (',', ','), ('World', 'NNP'), ('Test', 'NNP'), ('Championship', 'NNP'), ('culminating', 'VBG'), ('ODI', 'NNP'), ('World', 'NNP'), ('Cup', 'NNP'), ('India', 'NNP'), ('next', 'JJ'), ('October-November', 'NNP'), ('.', '.')]\n",
      "[('It', 'PRP'), ('learnt', 'VBZ'), ('focus', 'RBR'), ('solely', 'RB'), ('planning', 'VBG'), ('ODI', 'NNP'), ('World', 'NNP'), ('Cup', 'NNP'), ('.', '.')]\n",
      "[('The', 'DT'), ('team', 'NN'), ('management', 'NN'), ('learnt', 'NN'), ('harsh', 'NN'), ('lesson', 'JJ'), ('playing', 'NN'), ('settled', 'VBD'), ('team', 'JJ'), ('year', 'NN'), ('.', '.')]\n",
      "[('It', 'PRP'), (\"n't\", 'RB'), ('want', 'VB'), ('repeat', 'NN'), ('mistake', 'NN'), ('next', 'JJ'), ('year', 'NN'), ('.', '.')]\n",
      "[('Going', 'VBG'), (',', ','), ('India', 'NNP'), ('would', 'MD'), ('want', 'VB'), ('senior', 'JJ'), ('players', 'NNS'), (',', ','), ('T20', 'NNP'), ('World', 'NNP'), ('Cup', 'NNP'), ('contention', 'NN'), ('ODI', 'NNP'), ('World', 'NNP'), ('Cup', 'NNP'), (',', ','), ('available', 'JJ'), ('ODI', 'NNP'), ('matches', 'NNS'), ('.', '.')]\n",
      "[('There', 'EX'), ('handful', 'JJ'), ('T20I', 'NNP'), ('games', 'NNS'), ('India', 'NNP'), ('play', 'NN'), ('next', 'JJ'), ('year', 'NN'), ('.', '.')]\n",
      "[('That', 'DT'), ('would', 'MD'), ('mean', 'VB'), ('workload', 'NN'), ('senior', 'JJ'), ('players', 'NNS'), ('could', 'MD'), ('managed', 'VB'), ('resting', 'VBG'), ('games', 'NNS'), ('.', '.')]\n",
      "[('That', 'DT'), ('opens', 'VBZ'), ('quite', 'RB'), ('places', 'NNS'), ('T20I', 'NNP'), ('set-up', 'NN'), ('.', '.')]\n",
      "[('Hardik', 'NNP'), ('Pandya', 'NNP'), ('hot', 'JJ'), ('favourite', 'RB'), ('top', 'JJ'), ('job', 'NN'), ('.', '.')]\n"
     ]
    }
   ],
   "source": [
    "#stopword removal and pos tagging\n",
    "nltk.download('averaged_perceptron_tagger')\n",
    "for i in tokenized_data:\n",
    "   words = nltk.word_tokenize(i)\n",
    "   words = [i for i in words if not i in stop_words]\n",
    "   tagged_data = nltk.pos_tag(words)\n",
    "   print(tagged_data)"
   ]
  },
  {
   "cell_type": "code",
   "execution_count": 13,
   "id": "376cae27",
   "metadata": {},
   "outputs": [
    {
     "name": "stdout",
     "output_type": "stream",
     "text": [
      "Requirement already satisfied: spacy in c:\\users\\aravind\\anaconda3\\lib\\site-packages (3.5.0)\n",
      "Requirement already satisfied: wasabi<1.2.0,>=0.9.1 in c:\\users\\aravind\\anaconda3\\lib\\site-packages (from spacy) (1.1.1)\n",
      "Requirement already satisfied: cymem<2.1.0,>=2.0.2 in c:\\users\\aravind\\anaconda3\\lib\\site-packages (from spacy) (2.0.7)\n",
      "Requirement already satisfied: catalogue<2.1.0,>=2.0.6 in c:\\users\\aravind\\anaconda3\\lib\\site-packages (from spacy) (2.0.8)\n",
      "Requirement already satisfied: thinc<8.2.0,>=8.1.0 in c:\\users\\aravind\\anaconda3\\lib\\site-packages (from spacy) (8.1.7)\n",
      "Requirement already satisfied: preshed<3.1.0,>=3.0.2 in c:\\users\\aravind\\anaconda3\\lib\\site-packages (from spacy) (3.0.8)\n",
      "Requirement already satisfied: tqdm<5.0.0,>=4.38.0 in c:\\users\\aravind\\anaconda3\\lib\\site-packages (from spacy) (4.59.0)\n",
      "Requirement already satisfied: setuptools in c:\\users\\aravind\\anaconda3\\lib\\site-packages (from spacy) (52.0.0.post20210125)\n",
      "Requirement already satisfied: murmurhash<1.1.0,>=0.28.0 in c:\\users\\aravind\\anaconda3\\lib\\site-packages (from spacy) (1.0.9)\n",
      "Requirement already satisfied: jinja2 in c:\\users\\aravind\\anaconda3\\lib\\site-packages (from spacy) (2.11.3)\n",
      "Requirement already satisfied: requests<3.0.0,>=2.13.0 in c:\\users\\aravind\\anaconda3\\lib\\site-packages (from spacy) (2.25.1)\n",
      "Requirement already satisfied: spacy-legacy<3.1.0,>=3.0.11 in c:\\users\\aravind\\anaconda3\\lib\\site-packages (from spacy) (3.0.12)\n",
      "Requirement already satisfied: typer<0.8.0,>=0.3.0 in c:\\users\\aravind\\anaconda3\\lib\\site-packages (from spacy) (0.7.0)\n",
      "Requirement already satisfied: smart-open<7.0.0,>=5.2.1 in c:\\users\\aravind\\anaconda3\\lib\\site-packages (from spacy) (6.3.0)\n",
      "Requirement already satisfied: numpy>=1.15.0 in c:\\users\\aravind\\anaconda3\\lib\\site-packages (from spacy) (1.20.1)\n",
      "Requirement already satisfied: pathy>=0.10.0 in c:\\users\\aravind\\anaconda3\\lib\\site-packages (from spacy) (0.10.1)\n",
      "Requirement already satisfied: srsly<3.0.0,>=2.4.3 in c:\\users\\aravind\\anaconda3\\lib\\site-packages (from spacy) (2.4.5)\n",
      "Requirement already satisfied: langcodes<4.0.0,>=3.2.0 in c:\\users\\aravind\\anaconda3\\lib\\site-packages (from spacy) (3.3.0)\n",
      "Requirement already satisfied: spacy-loggers<2.0.0,>=1.0.0 in c:\\users\\aravind\\anaconda3\\lib\\site-packages (from spacy) (1.0.4)\n",
      "Requirement already satisfied: packaging>=20.0 in c:\\users\\aravind\\anaconda3\\lib\\site-packages (from spacy) (20.9)\n",
      "Requirement already satisfied: pydantic!=1.8,!=1.8.1,<1.11.0,>=1.7.4 in c:\\users\\aravind\\anaconda3\\lib\\site-packages (from spacy) (1.10.4)\n",
      "Requirement already satisfied: pyparsing>=2.0.2 in c:\\users\\aravind\\anaconda3\\lib\\site-packages (from packaging>=20.0->spacy) (2.4.7)\n",
      "Requirement already satisfied: typing-extensions>=4.2.0 in c:\\users\\aravind\\anaconda3\\lib\\site-packages (from pydantic!=1.8,!=1.8.1,<1.11.0,>=1.7.4->spacy) (4.4.0)\n",
      "Requirement already satisfied: urllib3<1.27,>=1.21.1 in c:\\users\\aravind\\anaconda3\\lib\\site-packages (from requests<3.0.0,>=2.13.0->spacy) (1.26.4)\n",
      "Requirement already satisfied: certifi>=2017.4.17 in c:\\users\\aravind\\anaconda3\\lib\\site-packages (from requests<3.0.0,>=2.13.0->spacy) (2020.12.5)\n",
      "Requirement already satisfied: chardet<5,>=3.0.2 in c:\\users\\aravind\\anaconda3\\lib\\site-packages (from requests<3.0.0,>=2.13.0->spacy) (4.0.0)\n",
      "Requirement already satisfied: idna<3,>=2.5 in c:\\users\\aravind\\anaconda3\\lib\\site-packages (from requests<3.0.0,>=2.13.0->spacy) (2.10)\n",
      "Requirement already satisfied: blis<0.8.0,>=0.7.8 in c:\\users\\aravind\\anaconda3\\lib\\site-packages (from thinc<8.2.0,>=8.1.0->spacy) (0.7.9)\n",
      "Requirement already satisfied: confection<1.0.0,>=0.0.1 in c:\\users\\aravind\\anaconda3\\lib\\site-packages (from thinc<8.2.0,>=8.1.0->spacy) (0.0.4)\n",
      "Requirement already satisfied: click<9.0.0,>=7.1.1 in c:\\users\\aravind\\anaconda3\\lib\\site-packages (from typer<0.8.0,>=0.3.0->spacy) (7.1.2)\n",
      "Requirement already satisfied: colorama>=0.4.6 in c:\\users\\aravind\\anaconda3\\lib\\site-packages (from wasabi<1.2.0,>=0.9.1->spacy) (0.4.6)\n",
      "Requirement already satisfied: MarkupSafe>=0.23 in c:\\users\\aravind\\anaconda3\\lib\\site-packages (from jinja2->spacy) (1.1.1)\n"
     ]
    }
   ],
   "source": [
    "!pip install spacy"
   ]
  },
  {
   "cell_type": "code",
   "execution_count": 16,
   "id": "81864127",
   "metadata": {},
   "outputs": [
    {
     "name": "stderr",
     "output_type": "stream",
     "text": [
      "Traceback (most recent call last):\n",
      "  File \"C:\\Users\\ARAVIND\\anaconda3\\lib\\runpy.py\", line 194, in _run_module_as_main\n",
      "    return _run_code(code, main_globals, None,\n",
      "  File \"C:\\Users\\ARAVIND\\anaconda3\\lib\\runpy.py\", line 87, in _run_code\n",
      "    exec(code, run_globals)\n",
      "  File \"C:\\Users\\ARAVIND\\anaconda3\\lib\\site-packages\\spacy\\__main__.py\", line 4, in <module>\n",
      "    setup_cli()\n",
      "  File \"C:\\Users\\ARAVIND\\anaconda3\\lib\\site-packages\\spacy\\cli\\_util.py\", line 74, in setup_cli\n",
      "    command(prog_name=COMMAND)\n",
      "  File \"C:\\Users\\ARAVIND\\anaconda3\\lib\\site-packages\\click\\core.py\", line 829, in __call__\n",
      "    return self.main(*args, **kwargs)\n",
      "  File \"C:\\Users\\ARAVIND\\anaconda3\\lib\\site-packages\\typer\\core.py\", line 778, in main\n",
      "    return _main(\n",
      "  File \"C:\\Users\\ARAVIND\\anaconda3\\lib\\site-packages\\typer\\core.py\", line 190, in _main\n",
      "    args = click.utils._expand_args(args)\n",
      "AttributeError: module 'click.utils' has no attribute '_expand_args'\n"
     ]
    }
   ],
   "source": [
    "!python -m spacy download en_core_web_sm"
   ]
  },
  {
   "cell_type": "code",
   "execution_count": 17,
   "id": "283de691",
   "metadata": {},
   "outputs": [
    {
     "ename": "ImportError",
     "evalue": "cannot import name dataclass_transform",
     "output_type": "error",
     "traceback": [
      "\u001b[1;31m---------------------------------------------------------------------------\u001b[0m",
      "\u001b[1;31mImportError\u001b[0m                               Traceback (most recent call last)",
      "\u001b[1;32m<ipython-input-17-35f67ad1d76f>\u001b[0m in \u001b[0;36m<module>\u001b[1;34m\u001b[0m\n\u001b[0;32m      1\u001b[0m \u001b[1;31m#extracting noun phrases\u001b[0m\u001b[1;33m\u001b[0m\u001b[1;33m\u001b[0m\u001b[1;33m\u001b[0m\u001b[0m\n\u001b[1;32m----> 2\u001b[1;33m \u001b[1;32mimport\u001b[0m \u001b[0mspacy\u001b[0m\u001b[1;33m\u001b[0m\u001b[1;33m\u001b[0m\u001b[0m\n\u001b[0m\u001b[0;32m      3\u001b[0m \u001b[0mnlp\u001b[0m \u001b[1;33m=\u001b[0m \u001b[0mspacy\u001b[0m\u001b[1;33m.\u001b[0m\u001b[0mload\u001b[0m\u001b[1;33m(\u001b[0m\u001b[1;34m\"en_core_web_sm\"\u001b[0m\u001b[1;33m)\u001b[0m\u001b[1;33m\u001b[0m\u001b[1;33m\u001b[0m\u001b[0m\n\u001b[0;32m      4\u001b[0m \u001b[0mdoc\u001b[0m \u001b[1;33m=\u001b[0m \u001b[0mnlp\u001b[0m\u001b[1;33m(\u001b[0m\u001b[0mtxt\u001b[0m\u001b[1;33m)\u001b[0m\u001b[1;33m\u001b[0m\u001b[1;33m\u001b[0m\u001b[0m\n",
      "\u001b[1;32m~\\anaconda3\\lib\\site-packages\\spacy\\__init__.py\u001b[0m in \u001b[0;36m<module>\u001b[1;34m\u001b[0m\n\u001b[0;32m      4\u001b[0m \u001b[1;33m\u001b[0m\u001b[0m\n\u001b[0;32m      5\u001b[0m \u001b[1;31m# set library-specific custom warning handling before doing anything else\u001b[0m\u001b[1;33m\u001b[0m\u001b[1;33m\u001b[0m\u001b[1;33m\u001b[0m\u001b[0m\n\u001b[1;32m----> 6\u001b[1;33m \u001b[1;32mfrom\u001b[0m \u001b[1;33m.\u001b[0m\u001b[0merrors\u001b[0m \u001b[1;32mimport\u001b[0m \u001b[0msetup_default_warnings\u001b[0m\u001b[1;33m\u001b[0m\u001b[1;33m\u001b[0m\u001b[0m\n\u001b[0m\u001b[0;32m      7\u001b[0m \u001b[1;33m\u001b[0m\u001b[0m\n\u001b[0;32m      8\u001b[0m \u001b[0msetup_default_warnings\u001b[0m\u001b[1;33m(\u001b[0m\u001b[1;33m)\u001b[0m  \u001b[1;31m# noqa: E402\u001b[0m\u001b[1;33m\u001b[0m\u001b[1;33m\u001b[0m\u001b[0m\n",
      "\u001b[1;32m~\\anaconda3\\lib\\site-packages\\spacy\\errors.py\u001b[0m in \u001b[0;36m<module>\u001b[1;34m\u001b[0m\n\u001b[0;32m      1\u001b[0m \u001b[1;32mimport\u001b[0m \u001b[0mwarnings\u001b[0m\u001b[1;33m\u001b[0m\u001b[1;33m\u001b[0m\u001b[0m\n\u001b[1;32m----> 2\u001b[1;33m \u001b[1;32mfrom\u001b[0m \u001b[1;33m.\u001b[0m\u001b[0mcompat\u001b[0m \u001b[1;32mimport\u001b[0m \u001b[0mLiteral\u001b[0m\u001b[1;33m\u001b[0m\u001b[1;33m\u001b[0m\u001b[0m\n\u001b[0m\u001b[0;32m      3\u001b[0m \u001b[1;33m\u001b[0m\u001b[0m\n\u001b[0;32m      4\u001b[0m \u001b[1;33m\u001b[0m\u001b[0m\n\u001b[0;32m      5\u001b[0m \u001b[1;32mclass\u001b[0m \u001b[0mErrorsWithCodes\u001b[0m\u001b[1;33m(\u001b[0m\u001b[0mtype\u001b[0m\u001b[1;33m)\u001b[0m\u001b[1;33m:\u001b[0m\u001b[1;33m\u001b[0m\u001b[1;33m\u001b[0m\u001b[0m\n",
      "\u001b[1;32m~\\anaconda3\\lib\\site-packages\\spacy\\compat.py\u001b[0m in \u001b[0;36m<module>\u001b[1;34m\u001b[0m\n\u001b[0;32m      1\u001b[0m \u001b[1;34m\"\"\"Helpers for Python and platform compatibility.\"\"\"\u001b[0m\u001b[1;33m\u001b[0m\u001b[1;33m\u001b[0m\u001b[0m\n\u001b[0;32m      2\u001b[0m \u001b[1;32mimport\u001b[0m \u001b[0msys\u001b[0m\u001b[1;33m\u001b[0m\u001b[1;33m\u001b[0m\u001b[0m\n\u001b[1;32m----> 3\u001b[1;33m \u001b[1;32mfrom\u001b[0m \u001b[0mthinc\u001b[0m\u001b[1;33m.\u001b[0m\u001b[0mutil\u001b[0m \u001b[1;32mimport\u001b[0m \u001b[0mcopy_array\u001b[0m\u001b[1;33m\u001b[0m\u001b[1;33m\u001b[0m\u001b[0m\n\u001b[0m\u001b[0;32m      4\u001b[0m \u001b[1;33m\u001b[0m\u001b[0m\n\u001b[0;32m      5\u001b[0m \u001b[1;32mtry\u001b[0m\u001b[1;33m:\u001b[0m\u001b[1;33m\u001b[0m\u001b[1;33m\u001b[0m\u001b[0m\n",
      "\u001b[1;32m~\\anaconda3\\lib\\site-packages\\thinc\\__init__.py\u001b[0m in \u001b[0;36m<module>\u001b[1;34m\u001b[0m\n\u001b[0;32m      3\u001b[0m \u001b[1;33m\u001b[0m\u001b[0m\n\u001b[0;32m      4\u001b[0m \u001b[1;32mfrom\u001b[0m \u001b[1;33m.\u001b[0m\u001b[0mabout\u001b[0m \u001b[1;32mimport\u001b[0m \u001b[0m__version__\u001b[0m\u001b[1;33m\u001b[0m\u001b[1;33m\u001b[0m\u001b[0m\n\u001b[1;32m----> 5\u001b[1;33m \u001b[1;32mfrom\u001b[0m \u001b[1;33m.\u001b[0m\u001b[0mconfig\u001b[0m \u001b[1;32mimport\u001b[0m \u001b[0mregistry\u001b[0m\u001b[1;33m\u001b[0m\u001b[1;33m\u001b[0m\u001b[0m\n\u001b[0m\u001b[0;32m      6\u001b[0m \u001b[1;33m\u001b[0m\u001b[0m\n\u001b[0;32m      7\u001b[0m \u001b[1;33m\u001b[0m\u001b[0m\n",
      "\u001b[1;32m~\\anaconda3\\lib\\site-packages\\thinc\\config.py\u001b[0m in \u001b[0;36m<module>\u001b[1;34m\u001b[0m\n\u001b[0;32m      1\u001b[0m \u001b[1;32mimport\u001b[0m \u001b[0mcatalogue\u001b[0m\u001b[1;33m\u001b[0m\u001b[1;33m\u001b[0m\u001b[0m\n\u001b[1;32m----> 2\u001b[1;33m \u001b[1;32mimport\u001b[0m \u001b[0mconfection\u001b[0m\u001b[1;33m\u001b[0m\u001b[1;33m\u001b[0m\u001b[0m\n\u001b[0m\u001b[0;32m      3\u001b[0m \u001b[1;32mfrom\u001b[0m \u001b[0mconfection\u001b[0m \u001b[1;32mimport\u001b[0m \u001b[0mConfig\u001b[0m\u001b[1;33m,\u001b[0m \u001b[0mConfigValidationError\u001b[0m\u001b[1;33m,\u001b[0m \u001b[0mPromise\u001b[0m\u001b[1;33m,\u001b[0m \u001b[0mVARIABLE_RE\u001b[0m\u001b[1;33m\u001b[0m\u001b[1;33m\u001b[0m\u001b[0m\n\u001b[0;32m      4\u001b[0m \u001b[1;32mfrom\u001b[0m \u001b[1;33m.\u001b[0m\u001b[0mtypes\u001b[0m \u001b[1;32mimport\u001b[0m \u001b[0mDecorator\u001b[0m\u001b[1;33m\u001b[0m\u001b[1;33m\u001b[0m\u001b[0m\n\u001b[0;32m      5\u001b[0m \u001b[1;33m\u001b[0m\u001b[0m\n",
      "\u001b[1;32m~\\anaconda3\\lib\\site-packages\\confection\\__init__.py\u001b[0m in \u001b[0;36m<module>\u001b[1;34m\u001b[0m\n\u001b[0;32m      8\u001b[0m \u001b[1;32mfrom\u001b[0m \u001b[0mconfigparser\u001b[0m \u001b[1;32mimport\u001b[0m \u001b[0mParsingError\u001b[0m\u001b[1;33m\u001b[0m\u001b[1;33m\u001b[0m\u001b[0m\n\u001b[0;32m      9\u001b[0m \u001b[1;32mfrom\u001b[0m \u001b[0mpathlib\u001b[0m \u001b[1;32mimport\u001b[0m \u001b[0mPath\u001b[0m\u001b[1;33m\u001b[0m\u001b[1;33m\u001b[0m\u001b[0m\n\u001b[1;32m---> 10\u001b[1;33m \u001b[1;32mfrom\u001b[0m \u001b[0mpydantic\u001b[0m \u001b[1;32mimport\u001b[0m \u001b[0mBaseModel\u001b[0m\u001b[1;33m,\u001b[0m \u001b[0mcreate_model\u001b[0m\u001b[1;33m,\u001b[0m \u001b[0mValidationError\u001b[0m\u001b[1;33m,\u001b[0m \u001b[0mExtra\u001b[0m\u001b[1;33m\u001b[0m\u001b[1;33m\u001b[0m\u001b[0m\n\u001b[0m\u001b[0;32m     11\u001b[0m \u001b[1;32mfrom\u001b[0m \u001b[0mpydantic\u001b[0m\u001b[1;33m.\u001b[0m\u001b[0mmain\u001b[0m \u001b[1;32mimport\u001b[0m \u001b[0mModelMetaclass\u001b[0m\u001b[1;33m\u001b[0m\u001b[1;33m\u001b[0m\u001b[0m\n\u001b[0;32m     12\u001b[0m \u001b[1;32mfrom\u001b[0m \u001b[0mpydantic\u001b[0m\u001b[1;33m.\u001b[0m\u001b[0mfields\u001b[0m \u001b[1;32mimport\u001b[0m \u001b[0mModelField\u001b[0m\u001b[1;33m\u001b[0m\u001b[1;33m\u001b[0m\u001b[0m\n",
      "\u001b[1;32m~\\anaconda3\\lib\\site-packages\\pydantic\\__init__.cp38-win_amd64.pyd\u001b[0m in \u001b[0;36minit pydantic.__init__\u001b[1;34m()\u001b[0m\n",
      "\u001b[1;32m~\\anaconda3\\lib\\site-packages\\pydantic\\dataclasses.cp38-win_amd64.pyd\u001b[0m in \u001b[0;36minit pydantic.dataclasses\u001b[1;34m()\u001b[0m\n",
      "\u001b[1;31mImportError\u001b[0m: cannot import name dataclass_transform"
     ]
    }
   ],
   "source": [
    "#extracting noun phrases \n",
    "import spacy\n",
    "nlp = spacy.load(\"en_core_web_sm\")\n",
    "doc = nlp(txt)\n"
   ]
  }
 ],
 "metadata": {
  "kernelspec": {
   "display_name": "Python 3",
   "language": "python",
   "name": "python3"
  },
  "language_info": {
   "codemirror_mode": {
    "name": "ipython",
    "version": 3
   },
   "file_extension": ".py",
   "mimetype": "text/x-python",
   "name": "python",
   "nbconvert_exporter": "python",
   "pygments_lexer": "ipython3",
   "version": "3.8.8"
  }
 },
 "nbformat": 4,
 "nbformat_minor": 5
}
